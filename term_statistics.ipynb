{
  "nbformat": 4,
  "nbformat_minor": 0,
  "metadata": {
    "colab": {
      "name": "term-statistics.ipynb",
      "provenance": [],
      "include_colab_link": true
    },
    "kernelspec": {
      "name": "python3",
      "display_name": "Python 3"
    },
    "language_info": {
      "name": "python"
    }
  },
  "cells": [
    {
      "cell_type": "markdown",
      "metadata": {
        "id": "view-in-github",
        "colab_type": "text"
      },
      "source": [
        "<a href=\"https://colab.research.google.com/github/gurpreetkaurbatra/Assignment1/blob/main/term_statistics.ipynb\" target=\"_parent\"><img src=\"https://colab.research.google.com/assets/colab-badge.svg\" alt=\"Open In Colab\"/></a>"
      ]
    },
    {
      "cell_type": "markdown",
      "metadata": {
        "id": "tA4bCPS1MmAx"
      },
      "source": [
        "## Sample Data\n",
        "\n",
        "Start by looking at some sample data. We donwload the counts of terms in documents for the first one million tokens of a newswire collection."
      ]
    },
    {
      "cell_type": "markdown",
      "metadata": {
        "id": "2yYCQrU0J5C5"
      },
      "source": [
        "# Working with Terms and Documents\n",
        "\n",
        "This first homework assignment starts off with term statistics computations and graphing. In the final section (for CS6200 students), you collect new documents to experiment with.\n",
        "\n",
        "Read through this Jupyter notebook and fill in the parts marked with `TODO`."
      ]
    },
    {
      "cell_type": "markdown",
      "metadata": {
        "id": "09YuCZWRc6OP"
      },
      "source": [
        "Discussed with Tarun Vishal."
      ]
    },
    {
      "cell_type": "code",
      "metadata": {
        "colab": {
          "base_uri": "https://localhost:8080/"
        },
        "id": "W-IMINS4IFUg",
        "outputId": "78a6204c-f7ce-4911-cdda-2f51370620c7"
      },
      "source": [
        "!wget -O ap201001.json.gz https://github.com/dasmiq/cs6200-hw1/blob/main/ap201001.json.gz?raw=true\n",
        "!gunzip ap201001.json.gz"
      ],
      "execution_count": 2,
      "outputs": [
        {
          "output_type": "stream",
          "name": "stdout",
          "text": [
            "--2021-10-05 00:18:48--  https://github.com/dasmiq/cs6200-hw1/blob/main/ap201001.json.gz?raw=true\n",
            "Resolving github.com (github.com)... 140.82.121.4\n",
            "Connecting to github.com (github.com)|140.82.121.4|:443... connected.\n",
            "HTTP request sent, awaiting response... 302 Found\n",
            "Location: https://github.com/dasmiq/cs6200-hw1/raw/main/ap201001.json.gz [following]\n",
            "--2021-10-05 00:18:48--  https://github.com/dasmiq/cs6200-hw1/raw/main/ap201001.json.gz\n",
            "Reusing existing connection to github.com:443.\n",
            "HTTP request sent, awaiting response... 302 Found\n",
            "Location: https://raw.githubusercontent.com/dasmiq/cs6200-hw1/main/ap201001.json.gz [following]\n",
            "--2021-10-05 00:18:48--  https://raw.githubusercontent.com/dasmiq/cs6200-hw1/main/ap201001.json.gz\n",
            "Resolving raw.githubusercontent.com (raw.githubusercontent.com)... 185.199.108.133, 185.199.109.133, 185.199.110.133, ...\n",
            "Connecting to raw.githubusercontent.com (raw.githubusercontent.com)|185.199.108.133|:443... connected.\n",
            "HTTP request sent, awaiting response... 200 OK\n",
            "Length: 2854711 (2.7M) [application/octet-stream]\n",
            "Saving to: ‘ap201001.json.gz’\n",
            "\n",
            "ap201001.json.gz    100%[===================>]   2.72M  --.-KB/s    in 0.03s   \n",
            "\n",
            "2021-10-05 00:18:49 (97.6 MB/s) - ‘ap201001.json.gz’ saved [2854711/2854711]\n",
            "\n"
          ]
        }
      ]
    },
    {
      "cell_type": "markdown",
      "metadata": {
        "id": "_SEFjGZvM4lY"
      },
      "source": [
        "We convert this file with one JSON record on each line to a list of dictionaries."
      ]
    },
    {
      "cell_type": "code",
      "metadata": {
        "id": "6CrLD5SOIMz1"
      },
      "source": [
        "import json\n",
        "rawfile = open('ap201001.json')\n",
        "terms = [json.loads(line) for line in rawfile]"
      ],
      "execution_count": 3,
      "outputs": []
    },
    {
      "cell_type": "markdown",
      "metadata": {
        "id": "Rg4P9XJJM_lZ"
      },
      "source": [
        "Here are the first ten records, showing the count of each term for each document and field. In this data, field can be `body` or `title`."
      ]
    },
    {
      "cell_type": "code",
      "metadata": {
        "colab": {
          "base_uri": "https://localhost:8080/"
        },
        "id": "g8GdOuyzI0wm",
        "outputId": "ad43d751-a59a-4a5f-fd77-f9ac92494eac"
      },
      "source": [
        "terms[1:10]"
      ],
      "execution_count": 4,
      "outputs": [
        {
          "output_type": "execute_result",
          "data": {
            "text/plain": [
              "[{'count': 1, 'field': 'body', 'id': 'APW_ENG_20100101.0001', 'term': 'about'},\n",
              " {'count': 1, 'field': 'body', 'id': 'APW_ENG_20100101.0001', 'term': 'abuse'},\n",
              " {'count': 1,\n",
              "  'field': 'body',\n",
              "  'id': 'APW_ENG_20100101.0001',\n",
              "  'term': 'academy'},\n",
              " {'count': 2,\n",
              "  'field': 'body',\n",
              "  'id': 'APW_ENG_20100101.0001',\n",
              "  'term': 'accused'},\n",
              " {'count': 1,\n",
              "  'field': 'body',\n",
              "  'id': 'APW_ENG_20100101.0001',\n",
              "  'term': 'actress'},\n",
              " {'count': 1, 'field': 'body', 'id': 'APW_ENG_20100101.0001', 'term': 'ad'},\n",
              " {'count': 1, 'field': 'body', 'id': 'APW_ENG_20100101.0001', 'term': 'after'},\n",
              " {'count': 1,\n",
              "  'field': 'body',\n",
              "  'id': 'APW_ENG_20100101.0001',\n",
              "  'term': 'agenda'},\n",
              " {'count': 1,\n",
              "  'field': 'body',\n",
              "  'id': 'APW_ENG_20100101.0001',\n",
              "  'term': 'agreed'}]"
            ]
          },
          "metadata": {},
          "execution_count": 4
        }
      ]
    },
    {
      "cell_type": "markdown",
      "metadata": {
        "id": "q-CjFLXH3BJg"
      },
      "source": [
        "Each record has four fields:\n",
        "* `id`, with the identifier for the document;\n",
        "* `field`, with the region of the document containing a given term;\n",
        "* `term`, with the lower-cased term; and\n",
        "* `count`, with the number of times each term occurred in that field and document."
      ]
    },
    {
      "cell_type": "markdown",
      "metadata": {
        "id": "2H5yBvEVNUPr"
      },
      "source": [
        "## Computing Term Statistics\n"
      ]
    },
    {
      "cell_type": "markdown",
      "metadata": {
        "id": "qhDt23kKv0Uy"
      },
      "source": [
        "If we look at the most frequent terms for a given document, we mostly see common function words, such as `the`, `and`, and `of`. Start exploring the dataset by computing some of there basic term statistics. You can make your like easier using data frame libraries such as `pandas`, core python libraries such as `collections`, or just simple list comprehensions.\n",
        "\n",
        "Feel free to define helper functions in your code before computing the statistics we're looking for."
      ]
    },
    {
      "cell_type": "markdown",
      "metadata": {
        "id": "0uYusksGcdIY"
      },
      "source": [
        ""
      ]
    },
    {
      "cell_type": "code",
      "metadata": {
        "id": "ApSTdSlQZdoK"
      },
      "source": [
        "import operator\n",
        "from itertools import islice\n",
        "def take(n, iterable):\n",
        "    \"Return first n items of the iterable as a list\"\n",
        "    return list(islice(iterable, n))"
      ],
      "execution_count": 39,
      "outputs": []
    },
    {
      "cell_type": "code",
      "metadata": {
        "id": "2Zy5qR562nZ5",
        "colab": {
          "base_uri": "https://localhost:8080/"
        },
        "outputId": "4c93a636-682a-4800-af25-7e8f8021910e"
      },
      "source": [
        "# TODO: Print the 6 terms from document APW_ENG_20100101.0001 with the highest count.\n",
        "sample = {}\n",
        "for string in terms:\n",
        "    if string[\"id\"] == \"APW_ENG_20100101.0001\":\n",
        "        sample[string[\"term\"]] = string[\"count\"]\n",
        "sample = dict( sorted(sample.items(), key=operator.itemgetter(1),reverse=True)) \n",
        "\n",
        "n_items = take(6, sample.items())\n",
        "print(n_items)"
      ],
      "execution_count": 40,
      "outputs": [
        {
          "output_type": "stream",
          "name": "stdout",
          "text": [
            "[('a', 16), ('the', 11), ('and', 10), ('brooks', 10), ('of', 10), ('to', 10)]\n"
          ]
        }
      ]
    },
    {
      "cell_type": "markdown",
      "metadata": {
        "id": "vjU2jySsZUGe"
      },
      "source": [
        "The top 6 terms from the document APW_ENG_20100101.0001 with the highest count are **a, the, and, brooks, of, to**."
      ]
    },
    {
      "cell_type": "markdown",
      "metadata": {
        "id": "JVckRoKlZToB"
      },
      "source": [
        "I'm using panda dataframe to load the data."
      ]
    },
    {
      "cell_type": "code",
      "metadata": {
        "id": "5zS2gC6zZOpP"
      },
      "source": [
        "import pandas as pd\n",
        "import numpy as np\n",
        "import math\n",
        "import matplotlib.pyplot as plt\n",
        "%matplotlib inline\n",
        "import bs4 as bs\n",
        "import urllib.request\n",
        "from collections import Counter\\\n",
        "\n",
        "data = pd.DataFrame(terms, columns=['id', 'term', 'field', 'count'])\n",
        "data.info()"
      ],
      "execution_count": null,
      "outputs": []
    },
    {
      "cell_type": "code",
      "metadata": {
        "id": "z7BvW8NR2ynC",
        "colab": {
          "base_uri": "https://localhost:8080/",
          "height": 235
        },
        "outputId": "f6a8c365-b1a1-4e86-912b-441120384094"
      },
      "source": [
        "# TODO: Print the 6 terms from document APW_ENG_20100102.0077 with the highest count.\n",
        "result = data[data['id'] == \"APW_ENG_20100102.0077\"].sort_values('count')\n",
        "result[-6:][['term', 'count']].reset_index()"
      ],
      "execution_count": 80,
      "outputs": [
        {
          "output_type": "execute_result",
          "data": {
            "text/html": [
              "<div>\n",
              "<style scoped>\n",
              "    .dataframe tbody tr th:only-of-type {\n",
              "        vertical-align: middle;\n",
              "    }\n",
              "\n",
              "    .dataframe tbody tr th {\n",
              "        vertical-align: top;\n",
              "    }\n",
              "\n",
              "    .dataframe thead th {\n",
              "        text-align: right;\n",
              "    }\n",
              "</style>\n",
              "<table border=\"1\" class=\"dataframe\">\n",
              "  <thead>\n",
              "    <tr style=\"text-align: right;\">\n",
              "      <th></th>\n",
              "      <th>index</th>\n",
              "      <th>term</th>\n",
              "      <th>count</th>\n",
              "    </tr>\n",
              "  </thead>\n",
              "  <tbody>\n",
              "    <tr>\n",
              "      <th>0</th>\n",
              "      <td>9287</td>\n",
              "      <td>a</td>\n",
              "      <td>13</td>\n",
              "    </tr>\n",
              "    <tr>\n",
              "      <th>1</th>\n",
              "      <td>9502</td>\n",
              "      <td>of</td>\n",
              "      <td>14</td>\n",
              "    </tr>\n",
              "    <tr>\n",
              "      <th>2</th>\n",
              "      <td>9301</td>\n",
              "      <td>and</td>\n",
              "      <td>19</td>\n",
              "    </tr>\n",
              "    <tr>\n",
              "      <th>3</th>\n",
              "      <td>9615</td>\n",
              "      <td>to</td>\n",
              "      <td>21</td>\n",
              "    </tr>\n",
              "    <tr>\n",
              "      <th>4</th>\n",
              "      <td>9441</td>\n",
              "      <td>in</td>\n",
              "      <td>21</td>\n",
              "    </tr>\n",
              "    <tr>\n",
              "      <th>5</th>\n",
              "      <td>9604</td>\n",
              "      <td>the</td>\n",
              "      <td>50</td>\n",
              "    </tr>\n",
              "  </tbody>\n",
              "</table>\n",
              "</div>"
            ],
            "text/plain": [
              "   index term  count\n",
              "0   9287    a     13\n",
              "1   9502   of     14\n",
              "2   9301  and     19\n",
              "3   9615   to     21\n",
              "4   9441   in     21\n",
              "5   9604  the     50"
            ]
          },
          "metadata": {},
          "execution_count": 80
        }
      ]
    },
    {
      "cell_type": "markdown",
      "metadata": {
        "id": "1eLFaAih38vY"
      },
      "source": [
        "The top 6 terms from the document APW_ENG_20100102.0077 with the highest count are **a, of, and, to, in, the**."
      ]
    },
    {
      "cell_type": "code",
      "metadata": {
        "id": "U7OwCo0w5R1q",
        "colab": {
          "base_uri": "https://localhost:8080/"
        },
        "outputId": "dd557ec4-1e02-40ff-a1fc-c9deef5735fd"
      },
      "source": [
        "# TODO: Print the 6 terms with the highest total count in the corpus.\n",
        "sample = {}\n",
        "for string in terms:\n",
        "    if string[\"term\"] in sample:\n",
        "        sample[string[\"term\"]] = sample.get(string[\"term\"]) + string[\"count\"]\n",
        "    else:\n",
        "        sample[string[\"term\"]] = string[\"count\"]    \n",
        "sample = dict( sorted(sample.items(), key=operator.itemgetter(1),reverse=True)) \n",
        "\n",
        "n_items = take(6, sample.items())\n",
        "print(n_items)"
      ],
      "execution_count": 77,
      "outputs": [
        {
          "output_type": "stream",
          "name": "stdout",
          "text": [
            "[('the', 62216), ('to', 26931), ('in', 25659), ('a', 23383), ('of', 22326), ('and', 22125)]\n"
          ]
        }
      ]
    },
    {
      "cell_type": "markdown",
      "metadata": {
        "id": "SnpHRI_A3u78"
      },
      "source": [
        "The top 6 terms with the highest total count in the corpus are **the, to, in, a, of, and.**"
      ]
    },
    {
      "cell_type": "markdown",
      "metadata": {
        "id": "dnNEUACW23Dd"
      },
      "source": [
        "Raw counts may not be the most informative statistic. One common improvement is to use *inverse document frequency*, the inverse of the proportion of documents that contain a given term."
      ]
    },
    {
      "cell_type": "code",
      "metadata": {
        "colab": {
          "base_uri": "https://localhost:8080/"
        },
        "id": "b7CktzUy6pFx",
        "outputId": "e94ee494-916b-4249-ecf6-b2590f035b0c"
      },
      "source": [
        ""
      ],
      "execution_count": 12,
      "outputs": [
        {
          "output_type": "stream",
          "name": "stdout",
          "text": [
            "<class 'pandas.core.frame.DataFrame'>\n",
            "RangeIndex: 538301 entries, 0 to 538300\n",
            "Data columns (total 4 columns):\n",
            " #   Column  Non-Null Count   Dtype \n",
            "---  ------  --------------   ----- \n",
            " 0   id      538301 non-null  object\n",
            " 1   term    538301 non-null  object\n",
            " 2   field   538301 non-null  object\n",
            " 3   count   538301 non-null  int64 \n",
            "dtypes: int64(1), object(3)\n",
            "memory usage: 16.4+ MB\n"
          ]
        }
      ]
    },
    {
      "cell_type": "code",
      "metadata": {
        "id": "uiUA502P2QkH"
      },
      "source": [
        "# TODO: Compute the number of distinct documents in the collection.\n",
        "word_list = list(data['term'].unique()) # list of unique words\n",
        "# create a map where you have docs and words present in them as a set\n",
        "unique_documents = list(data['id'].unique())\n",
        "docs_words_mapping_list = []\n",
        "for docs in unique_documents:\n",
        "  temp_dict = {docs: set(data[data['id'] == docs]['term'].unique())}\n",
        "  docs_words_mapping_list.append(temp_dict)\n",
        "  \n",
        "N = len(data['id'].unique()) # represents number of distinct documents\n",
        "\n",
        "# TODO: Compute the number of distinct documents each term appears in\n",
        "# and store in a dictionary.\n",
        "# for this we need to have a dictionary of docs mapped to words(set) and a word list\n",
        "df = dict()\n",
        "for word in word_list:\n",
        "  count = 0\n",
        "  for doc_word_set in docs_words_mapping_list:\n",
        "    if word in set.union(*doc_word_set.values()):\n",
        "      count+=1\n",
        "  df[word] = count"
      ],
      "execution_count": 87,
      "outputs": []
    },
    {
      "cell_type": "code",
      "metadata": {
        "id": "_XMPAKYNCq6Y",
        "colab": {
          "base_uri": "https://localhost:8080/"
        },
        "outputId": "0d77173f-fff6-446e-97a8-fad721edb8b7"
      },
      "source": [
        "# TODO: Print the relative document frequency of 'the',\n",
        "# i.e., the proportion of documents that contain 'the'.\n",
        "the_df = df[\"the\"] / N\n",
        "print(\"The relative document frequency for word 'the': \",the_df)"
      ],
      "execution_count": 89,
      "outputs": [
        {
          "output_type": "stream",
          "name": "stdout",
          "text": [
            "The relative document frequency for word 'the':  0.9704823614110871\n"
          ]
        }
      ]
    },
    {
      "cell_type": "markdown",
      "metadata": {
        "id": "ohFmwtc7Chy3"
      },
      "source": [
        "Empricially, we usually see better retrieval results if we rescale term frequency (within documents) and inverse document frequency (across documents) with the log function. Let the `tfidf` of term _t_ in document _d_ be:\n",
        "```\n",
        "tfidf(t, d) = log(count(t, d) + 1) * log(N / df(t))\n",
        "```\n",
        "\n",
        "Later in the course, we will show a probabilistic derivation of this quantity based on smoothing language models."
      ]
    },
    {
      "cell_type": "code",
      "metadata": {
        "id": "Fmyj4v_uHdyo"
      },
      "source": [
        "# TODO: Compute the tf-idf value for each term in each document.\n",
        "# Take the raw term data and add a tfidf field to each record.\n",
        "tfidf_terms = []\n",
        "for t in terms:\n",
        "  t['tfidf_val'] = math.log(t['count']+1) * math.log(N / df[t['term']])"
      ],
      "execution_count": 16,
      "outputs": []
    },
    {
      "cell_type": "code",
      "metadata": {
        "id": "NlXQmMO9HxH0",
        "colab": {
          "base_uri": "https://localhost:8080/"
        },
        "outputId": "1281ea30-3ba7-4fca-f41b-e27c85c88463"
      },
      "source": [
        "# TODO: Print the 20 records with the highest tf-idf values.\n",
        "[]\n",
        "terms_with_tfidf = []\n",
        "for t in terms:\n",
        "  terms_with_tfidf.append((t['term'], t['tfidf_val']))\n",
        "terms_with_tfidf.sort(key = lambda x: x[1], reverse = True)\n",
        "terms_with_tfidf[:20]"
      ],
      "execution_count": 20,
      "outputs": [
        {
          "output_type": "execute_result",
          "data": {
            "text/plain": [
              "[('guarani', 23.292877770934602),\n",
              " ('nomination', 22.519372287040166),\n",
              " ('methane', 21.98520490769353),\n",
              " ('kheire', 21.473447574098525),\n",
              " ('greyhound', 21.473447574098525),\n",
              " ('shakespeare', 21.30695962728155),\n",
              " ('guild', 20.667542714819742),\n",
              " ('shakespeare', 20.502093188010598),\n",
              " ('elkhart', 20.3387313629749),\n",
              " ('magna', 20.3387313629749),\n",
              " ('sutton', 19.920895352136885),\n",
              " ('tohti', 19.70403379118801),\n",
              " ('greyhounds', 19.70403379118801),\n",
              " ('krewe', 19.70403379118801),\n",
              " ('minhas', 19.70403379118801),\n",
              " ('golden', 19.30264700154524),\n",
              " ('actors', 19.28079391825445),\n",
              " ('pirate', 19.241529803327488),\n",
              " ('punk', 19.097114382079113),\n",
              " ('shiites', 19.01407824997372)]"
            ]
          },
          "metadata": {},
          "execution_count": 20
        }
      ]
    },
    {
      "cell_type": "markdown",
      "metadata": {
        "id": "H7H8TRp7a8zi"
      },
      "source": [
        "The top 20 records with the highest tf-idf values are **guarani, nomination, methane, kheire, greyhound, shakespeare, guild, shakespeare, elkhart, magna, sutton, tohti, greyhounds, krewe, minhas, golden, actors, pirate, punk, shiites** "
      ]
    },
    {
      "cell_type": "markdown",
      "metadata": {
        "id": "f61xitl1IApl"
      },
      "source": [
        "## Plotting Term Distributions\n",
        "\n",
        "Besides frequencies and tf-idf values within documents, it is often helpful to look at the distrubitions of word frequencies in the whole collection. In class, we talk about the Zipf distribution of word rank versus frequency and Heaps' Law relating the number of distinct words to the number of tokens.\n",
        "\n",
        "We might examine these distributions to see, for instance, if an unexpectedly large number of very rare terms occurs, which might indicate noise added to our data."
      ]
    },
    {
      "cell_type": "code",
      "metadata": {
        "id": "fsM5k1_5Jj7Y",
        "colab": {
          "base_uri": "https://localhost:8080/"
        },
        "outputId": "2fb84190-1b27-4c89-ade6-dd7f60cd9df1"
      },
      "source": [
        "# TODO: Compute a list of the distinct words in this collection and sort it in descending order of frequency.\n",
        "# Thus frequency[0] should contain the word \"the\" and the count 62216.\n",
        "frequency = []\n",
        "for key, value in sample.items():\n",
        "  frequency.append((key, value))\n",
        "frequency.sort(key = lambda x: x[1], reverse=True)\n",
        "\n",
        "print(frequency[:20])\n",
        "print(frequency[0])"
      ],
      "execution_count": 93,
      "outputs": [
        {
          "output_type": "stream",
          "name": "stdout",
          "text": [
            "[('the', 62216), ('to', 26931), ('in', 25659), ('a', 23383), ('of', 22326), ('and', 22125), ('said', 10888), ('for', 9716), ('on', 9382), ('that', 8942), ('was', 7791), ('is', 6317), ('with', 6283), ('at', 6078), ('he', 5874), ('it', 5357), ('from', 5094), ('as', 4746), ('by', 4641), ('has', 4355)]\n",
            "('the', 62216)\n"
          ]
        }
      ]
    },
    {
      "cell_type": "code",
      "metadata": {
        "id": "hdtc14EULkxS",
        "colab": {
          "base_uri": "https://localhost:8080/",
          "height": 557
        },
        "outputId": "e96de9e2-cf5e-4fce-a04f-e21854e0b97e"
      },
      "source": [
        "# TODO: Plot a graph of the log of the rank (starting at 1) on the x-axis,\n",
        "# against the log of the frequency on the y-axis. You may use the matplotlib\n",
        "# or other library.\n",
        "x_axis = [np.log(i) for i in range(1, len(frequency)+1)]\n",
        "y_axis = [np.log(x[1]) for x in frequency]\n",
        "fig = plt.figure()\n",
        "plt.scatter(x_axis, y_axis)\n",
        "fig.suptitle('Log Rank vs Log Frequency', fontsize=18)\n",
        "plt.xlabel('Log Rank', fontsize=13)\n",
        "plt.ylabel('Log of Frequency', fontsize=13)\n",
        "fig.set_size_inches(15, 8)\n",
        "fig.show()"
      ],
      "execution_count": 92,
      "outputs": [
        {
          "output_type": "display_data",
          "data": {
            "image/png": "[encoded data removed]",
            "text/plain": [
              "<Figure size 1080x576 with 1 Axes>"
            ]
          },
          "metadata": {
            "needs_background": "light"
          }
        }
      ]
    },
    {
      "cell_type": "markdown",
      "metadata": {
        "id": "GdiUXaXZMFqT"
      },
      "source": [
        "## Acquiring New Documents (for CS6200)\n",
        "\n",
        "For this assignment so far, you've worked with data that's already been extracted, tokenized, and counted. In this final section, you'll briefly explore acquiring new data.\n",
        "\n",
        "Find a collection of documents that you're interested in. For the statistics to be meaningful, this collection should have at least 1,000 words.\n",
        "\n",
        "The format could be anything you can extract text from: HTML, PDF, MS PowerPoint, chat logs, etc.\n",
        "\n",
        "The collection should be in a natural language, not mostly code or numerical data. It could be in English or in any other language.\n",
        "\n",
        "The final project for this course will involve designing an information retrieval task on some dataset. You could use this exercise to think about what kind of data you might be interested in, although that is not required."
      ]
    },
    {
      "cell_type": "markdown",
      "metadata": {
        "id": "EGPVnXv2O6AN"
      },
      "source": [
        "**TODO**: Write code to download and extract the text from the collection. Describe choices you make about what contents to keep."
      ]
    },
    {
      "cell_type": "code",
      "metadata": {
        "id": "VeDDz1SaPLik"
      },
      "source": [
        "# TODO: Data acquisition code here.\n",
        "result = []\n",
        "#Source 1 is from Apple.com\n",
        "source = urllib.request.urlopen(\"https://www.apple.com/newsroom/2021/09/apple-introduces-iphone-13-and-iphone-13-mini/\").read()\n",
        "soup = bs.BeautifulSoup(source,'lxml')\n",
        "title1 = soup.title\n",
        "footer1 = soup.footer.find_all('a')\n",
        "body1 = soup.body.find_all('p')\n",
        "\n",
        "#Source 2 is from financialexpress.com\n",
        "source_2 = urllib.request.urlopen(\"https://www.financialexpress.com/industry/technology/apple-watch-series-7-coming-to-india-in-first-wave-pre-orders-start-october-8/2343711/\").read()\n",
        "soup2 = bs.BeautifulSoup(source_2,'lxml')\n",
        "title2 = soup2.title\n",
        "footer2 = soup2.footer.find_all('a')\n",
        "body2 = soup2.body.find_all('p')\n"
      ],
      "execution_count": 52,
      "outputs": []
    },
    {
      "cell_type": "markdown",
      "metadata": {
        "id": "ng8a5_NmQ3Q7"
      },
      "source": [
        "I decided to use web scraping with beautiful soup parse the HTMl and XML documents. For the dataset, I have used blogs on Apple.com and Financial express owing to wide variety of words more than 1000. I have used web scraping as it's easy and convinient, and can be used in the future projects. "
      ]
    },
    {
      "cell_type": "markdown",
      "metadata": {
        "id": "L1-oRTixPKbw"
      },
      "source": [
        "**TODO**: Write code to tokenize the text and count the resulting terms in each document. Describe your tokenization approach here.\n",
        "\n",
        "Each term may also be associated with a field, such as `body` and `title` in the newswire collection above. Describe the different fields in your data."
      ]
    },
    {
      "cell_type": "code",
      "metadata": {
        "id": "Ydsh0h74Pnlh",
        "colab": {
          "base_uri": "https://localhost:8080/"
        },
        "outputId": "e7b8fdb2-33e1-4286-d8f1-ca736134a173"
      },
      "source": [
        "# TODO: Tokenization code here.\n",
        "\n",
        "# for words in title1\n",
        "temp1_title_words = []\n",
        "for elem in title1:\n",
        "  t = str(elem)\n",
        "  temp1_title_words.extend(t.split(\" \"))\n",
        "\n",
        "# for words in footer1\n",
        "temp1_footer_words = []\n",
        "for elem in footer1:\n",
        "  t = str(elem)\n",
        "  temp1_footer_words.extend(t.split(\" \"))\n",
        "\n",
        "# for words in body1\n",
        "temp1_body_words = []\n",
        "for elem in body1:\n",
        "  t = str(elem)\n",
        "  temp1_body_words.extend(t.split(\" \"))\n",
        "\n",
        "\n",
        "body1_words_count = Counter(temp1_body_words)\n",
        "title1_words_count = Counter(temp1_title_words)\n",
        "footer1_words_count = Counter(temp1_footer_words)\n",
        "\n",
        "for key, value in body1_words_count.items():\n",
        "  if str(value).isdigit():\n",
        "    temp_dict = {}\n",
        "    temp_dict['id'] = 'source1'\n",
        "    temp_dict['field'] = 'body'\n",
        "    temp_dict['term'] = key\n",
        "    temp_dict['count'] = value\n",
        "    result.append(temp_dict)\n",
        "\n",
        "result = result[2:]\n",
        "  \n",
        "for key, value in title1_words_count.items():\n",
        "  if str(value).isdigit():\n",
        "    temp_dict = {}\n",
        "    temp_dict['id'] = 'source1'\n",
        "    temp_dict['field'] = 'title'\n",
        "    temp_dict['term'] = key\n",
        "    temp_dict['count'] = value\n",
        "    result.append(temp_dict)\n",
        "\n",
        "for key, value in footer1_words_count.items():\n",
        "  if str(value).isdigit():\n",
        "    temp_dict = {}\n",
        "    temp_dict['id'] = 'source1'\n",
        "    temp_dict['field'] = 'footer'\n",
        "    temp_dict['term'] = key\n",
        "    temp_dict['count'] = value\n",
        "    result.append(temp_dict)\n",
        "\n",
        "# for words in title2\n",
        "temp2_title_words = []\n",
        "for elem in title2:\n",
        "  t = str(elem)\n",
        "  temp2_title_words.extend(t.split(\" \"))\n",
        "\n",
        "# for words in footer2\n",
        "temp2_footer_words = []\n",
        "for elem in footer2:\n",
        "  t = str(elem)\n",
        "  temp2_footer_words.extend(t.split(\" \"))\n",
        "\n",
        "# for words in body2\n",
        "temp2_body_words = []\n",
        "for elem in body2:\n",
        "  t = str(elem)\n",
        "  temp2_body_words.extend(t.split(\" \"))\n",
        "\n",
        "body2_words_count = Counter(body_words_temp1)\n",
        "title2_words_count = Counter(title_words_temp1)\n",
        "footer2_words_count = Counter(footer_words_temp1)\n",
        "\n",
        "\n",
        "for key, value in body2_words_count.items():\n",
        "  if str(value).isdigit():\n",
        "    temp_dict = {}\n",
        "    temp_dict['id'] = 'source2'\n",
        "    temp_dict['field'] = 'body'\n",
        "    temp_dict['term'] = key\n",
        "    temp_dict['count'] = value\n",
        "    result.append(temp_dict)\n",
        "\n",
        "  \n",
        "for key, value in title2_words_count.items():\n",
        "  if str(value).isdigit():\n",
        "    temp_dict = {}\n",
        "    temp_dict['id'] = 'source2'\n",
        "    temp_dict['field'] = 'title'\n",
        "    temp_dict['term'] = key\n",
        "    temp_dict['count'] = value\n",
        "    result.append(temp_dict)\n",
        "\n",
        "for key, value in footer2_words_count.items():\n",
        "  if str(value).isdigit():\n",
        "    temp_dict = {}\n",
        "    temp_dict['id'] = 'source2'\n",
        "    temp_dict['field'] = 'footer'\n",
        "    temp_dict['term'] = key\n",
        "    temp_dict['count'] = value\n",
        "    result.append(temp_dict)\n",
        "\n",
        "\n",
        "len(result)"
      ],
      "execution_count": 53,
      "outputs": [
        {
          "output_type": "execute_result",
          "data": {
            "text/plain": [
              "2274"
            ]
          },
          "metadata": {},
          "execution_count": 53
        }
      ]
    },
    {
      "cell_type": "markdown",
      "metadata": {
        "id": "FiXGLxjSUxKO"
      },
      "source": [
        "I have used two sources i.e. Apple.com and Financial express as my data sets. I have tokenzied them on the basis of footer, title and body. After that I have traversed on that data and added to my result."
      ]
    },
    {
      "cell_type": "markdown",
      "metadata": {
        "id": "D-boFCotQ4Ur"
      },
      "source": [
        "**TODO**: Plot a graph of the log rank against log frequency for your collection, as you did for the sample collection above. What do you observe about the differences between the distributions in these two collections?"
      ]
    },
    {
      "cell_type": "code",
      "metadata": {
        "colab": {
          "base_uri": "https://localhost:8080/",
          "height": 681
        },
        "id": "V-apHwWHP84Z",
        "outputId": "d6cf04b8-ef57-4b50-a066-95a4696b81cc"
      },
      "source": [
        "frequency_dict = {}\n",
        "\n",
        "for t in new_terms:\n",
        "  if t['term'] not in frequency_dict:\n",
        "    frequency_dict[t['term']] = t['count']\n",
        "  else:\n",
        "    frequency_dict[t['term']] = frequency_dict[t['term']]+t['count']\n",
        "\n",
        "\n",
        "frequency_for_diff_term = []\n",
        "for key, value in frequency_dict.items():\n",
        "  frequency_for_diff_term.append((key, value))\n",
        "frequency_for_diff_term.sort(key = lambda x: x[1], reverse=True)\n",
        "\n",
        "x_axis = [np.log(i) for i in range(1, len(frequency_for_diff_term)+1)]\n",
        "y_axis = [np.log(x[1]) for x in frequency_for_diff_term]\n",
        "\n",
        "fig = plt.figure()\n",
        "plt.scatter(x_axis, y_axis)\n",
        "fig.suptitle('Different Term Log Rank vs Log Frequency', fontsize=19)\n",
        "plt.xlabel('Log Rank', fontsize=14)\n",
        "plt.ylabel('Log of Frequency', fontsize=14)\n",
        "fig.set_size_inches(20, 10)\n",
        "fig.show()"
      ],
      "execution_count": 56,
      "outputs": [
        {
          "output_type": "display_data",
          "data": {
            "image/png": "[encoded data removed]",
            "text/plain": [
              "<Figure size 1440x720 with 1 Axes>"
            ]
          },
          "metadata": {
            "needs_background": "light"
          }
        }
      ]
    },
    {
      "cell_type": "markdown",
      "metadata": {
        "id": "a7k64dDKV-sE"
      },
      "source": [
        "In my opinion, since the data is not cleaned the graph obtained is discrete."
      ]
    }
  ]
}